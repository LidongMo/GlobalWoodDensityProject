{
 "cells": [
  {
   "cell_type": "markdown",
   "metadata": {},
   "source": [
    "# Leaf type map (Ma et al. 2023) export from GEE"
   ]
  },
  {
   "cell_type": "code",
   "execution_count": 2,
   "metadata": {},
   "outputs": [],
   "source": [
    "# import the libraries\n",
    "import ee\n",
    "import pandas as pd\n",
    "import os\n",
    "import numpy as np\n",
    "from termcolor import colored # this is allocate colour and fonts type for the print title and text"
   ]
  },
  {
   "cell_type": "code",
   "execution_count": 3,
   "metadata": {},
   "outputs": [],
   "source": [
    "#set the working directory of local drive for Grid search result table loading\n",
    "# os.getcwd()\n",
    "os.chdir('/Users/LeonidMoore/Desktop/ETH_Study/WoodDensityMapingProject')"
   ]
  },
  {
   "cell_type": "code",
   "execution_count": 4,
   "metadata": {},
   "outputs": [],
   "source": [
    "# initialize the earth engine API\n",
    "ee.Initialize()"
   ]
  },
  {
   "cell_type": "code",
   "execution_count": 5,
   "metadata": {},
   "outputs": [],
   "source": [
    "# define the boundary geography reference\n",
    "unboundedGeo = ee.Geometry.Polygon([-180, 88, 0, 88, 180, 88, 180, -88, 0, -88, -180, -88], None, False)"
   ]
  },
  {
   "cell_type": "code",
   "execution_count": 7,
   "metadata": {},
   "outputs": [
    {
     "name": "stdout",
     "output_type": "stream",
     "text": [
      "['be_pred_mean', 'bd_pred_mean', 'ne_pred_mean', 'nd_pred_mean', 'be_pred_stdDev', 'bd_pred_stdDev', 'ne_pred_stdDev', 'nd_pred_stdDev', 'be_pred_p3', 'be_pred_p98', 'bd_pred_p3', 'bd_pred_p98', 'ne_pred_p3', 'ne_pred_p98', 'nd_pred_p3', 'nd_pred_p98']\n"
     ]
    }
   ],
   "source": [
    "# load the leaf type image from Haozhi\n",
    "leafType = ee.Image(\"users/haozhima95/mapping_forest_functional_type/fft_probability_summary_dbh_occurrence_recent_RF_20230515\")\n",
    "print(leafType.bandNames().getInfo())\n",
    "\n",
    "# extract the needle leaf layers which are being treated as gymnopserm\n",
    "needleLeaf = leafType.select('ne_pred_mean').add(leafType.select('nd_pred_mean'))\n",
    "# extract the broad lead layer which are being treated as angiosperm\n",
    "broadLeaf = leafType.select('be_pred_mean').add(leafType.select('bd_pred_mean'))"
   ]
  },
  {
   "cell_type": "markdown",
   "metadata": {},
   "source": [
    "### Export into GEE Asset"
   ]
  },
  {
   "cell_type": "code",
   "execution_count": 8,
   "metadata": {},
   "outputs": [
    {
     "data": {
      "text/plain": [
       "{'state': 'READY',\n",
       " 'description': '20240205_Broad_leaf_Map_To_Asset',\n",
       " 'creation_timestamp_ms': 1707131948651,\n",
       " 'update_timestamp_ms': 1707131948651,\n",
       " 'start_timestamp_ms': 0,\n",
       " 'task_type': 'EXPORT_IMAGE',\n",
       " 'id': 'CDBPZMTX2P3Y6UIEBLT7PNA7',\n",
       " 'name': 'projects/earthengine-legacy/operations/CDBPZMTX2P3Y6UIEBLT7PNA7'}"
      ]
     },
     "execution_count": 8,
     "metadata": {},
     "output_type": "execute_result"
    }
   ],
   "source": [
    "# add those two images into the GEE assets\n",
    "needleLeafExport = ee.batch.Export.image.toAsset(image = needleLeaf,\n",
    "                                           description = '20240205_Needle_leaf_Map_To_Asset',\n",
    "                                           assetId = 'users/leonidmoore/WoodDensityProject/Needle_leaf_map',\n",
    "                                           region = unboundedGeo,\n",
    "                                           crs = 'EPSG:4326',\n",
    "                                           crsTransform = [0.008333333333333333,0,-180,0,-0.008333333333333333,90],\n",
    "                                           maxPixels = 1e13)\n",
    "\n",
    "\n",
    "# start the export task\n",
    "needleLeafExport.start()\n",
    "# show the task status\n",
    "needleLeafExport.status()\n",
    "\n",
    "\n",
    "# add those two images into the GEE assets\n",
    "broadLeafExport = ee.batch.Export.image.toAsset(image = broadLeaf,\n",
    "                                           description = '20240205_Broad_leaf_Map_To_Asset',\n",
    "                                           assetId = 'users/leonidmoore/WoodDensityProject/Broad_leaf_map',\n",
    "                                           region = unboundedGeo,\n",
    "                                           crs = 'EPSG:4326',\n",
    "                                           crsTransform = [0.008333333333333333,0,-180,0,-0.008333333333333333,90],\n",
    "                                           maxPixels = 1e13)\n",
    "\n",
    "\n",
    "# start the export task\n",
    "broadLeafExport.start()\n",
    "# show the task status\n",
    "broadLeafExport.status()"
   ]
  },
  {
   "cell_type": "code",
   "execution_count": null,
   "metadata": {},
   "outputs": [],
   "source": []
  }
 ],
 "metadata": {
  "kernelspec": {
   "display_name": "Python 3",
   "language": "python",
   "name": "python3"
  },
  "language_info": {
   "codemirror_mode": {
    "name": "ipython",
    "version": 3
   },
   "file_extension": ".py",
   "mimetype": "text/x-python",
   "name": "python",
   "nbconvert_exporter": "python",
   "pygments_lexer": "ipython3",
   "version": "3.8.5"
  }
 },
 "nbformat": 4,
 "nbformat_minor": 4
}
