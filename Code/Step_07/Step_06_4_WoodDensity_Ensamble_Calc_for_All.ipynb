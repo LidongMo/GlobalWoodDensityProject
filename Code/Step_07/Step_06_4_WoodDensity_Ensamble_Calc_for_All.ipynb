{
 "cells": [
  {
   "cell_type": "markdown",
   "metadata": {},
   "source": [
    "# Wood density maping ensemble calculation in GEE"
   ]
  },
  {
   "cell_type": "code",
   "execution_count": null,
   "metadata": {},
   "outputs": [],
   "source": [
    "# import the libraries\n",
    "import ee\n",
    "import pandas as pd\n",
    "import os\n",
    "import numpy as np\n",
    "from termcolor import colored # this is allocate colour and fonts type for the print title and text"
   ]
  },
  {
   "cell_type": "code",
   "execution_count": 2,
   "metadata": {},
   "outputs": [],
   "source": [
    "# initialize the earth engine API\n",
    "ee.Initialize()"
   ]
  },
  {
   "cell_type": "markdown",
   "metadata": {},
   "source": [
    "## load all the community wood density mean images into a multiband image"
   ]
  },
  {
   "cell_type": "code",
   "execution_count": 3,
   "metadata": {
    "scrolled": false
   },
   "outputs": [
    {
     "name": "stdout",
     "output_type": "stream",
     "text": [
      "\u001b[1m\u001b[34mThe band names are:\u001b[0m ['Model_0', 'Model_1', 'Model_2', 'Model_3', 'Model_4', 'Model_5', 'Model_6', 'Model_7', 'Model_8', 'Model_9', 'Model_10', 'Model_11', 'Model_12', 'Model_13', 'Model_14', 'Model_15', 'Model_16', 'Model_17', 'Model_18', 'Model_19', 'Model_20', 'Model_21', 'Model_22', 'Model_23', 'Model_24', 'Model_25', 'Model_26', 'Model_27', 'Model_28', 'Model_29', 'Model_30', 'Model_31', 'Model_32', 'Model_33', 'Model_34', 'Model_35', 'Model_36', 'Model_37', 'Model_38', 'Model_39', 'Model_40', 'Model_41', 'Model_42', 'Model_43', 'Model_44', 'Model_45', 'Model_46', 'Model_47', 'Model_48', 'Model_49', 'Model_50', 'Model_51', 'Model_52', 'Model_53', 'Model_54', 'Model_55', 'Model_56', 'Model_57', 'Model_58', 'Model_59', 'Model_60', 'Model_61', 'Model_62', 'Model_63', 'Model_64', 'Model_65', 'Model_66', 'Model_67', 'Model_68', 'Model_69', 'Model_70', 'Model_71', 'Model_72', 'Model_73', 'Model_74', 'Model_75', 'Model_76', 'Model_77', 'Model_78', 'Model_79', 'Model_80', 'Model_81', 'Model_82', 'Model_83', 'Model_84', 'Model_85', 'Model_86', 'Model_87', 'Model_88', 'Model_89', 'Model_90', 'Model_91', 'Model_92', 'Model_93', 'Model_94', 'Model_95', 'Model_96', 'Model_97', 'Model_98', 'Model_99', 'Model_100', 'Model_101', 'Model_102', 'Model_103', 'Model_104', 'Model_105', 'Model_106', 'Model_107', 'Model_108', 'Model_109', 'Model_110', 'Model_111', 'Model_112', 'Model_113', 'Model_114', 'Model_115', 'Model_116', 'Model_117', 'Model_118', 'Model_119', 'Model_120', 'Model_121', 'Model_122', 'Model_123', 'Model_124', 'Model_125', 'Model_126', 'Model_127', 'Model_128', 'Model_129', 'Model_130', 'Model_131', 'Model_132', 'Model_133', 'Model_134', 'Model_135', 'Model_136', 'Model_137', 'Model_138', 'Model_139', 'Model_140', 'Model_141', 'Model_142', 'Model_143', 'Model_144', 'Model_145', 'Model_146', 'Model_147', 'Model_148', 'Model_149', 'Model_150', 'Model_151', 'Model_152', 'Model_153', 'Model_154', 'Model_155', 'Model_156', 'Model_157', 'Model_158', 'Model_159', 'Model_160', 'Model_161', 'Model_162', 'Model_163', 'Model_164', 'Model_165', 'Model_166', 'Model_167', 'Model_168', 'Model_169', 'Model_170', 'Model_171', 'Model_172', 'Model_173', 'Model_174', 'Model_175', 'Model_176', 'Model_177', 'Model_178', 'Model_179', 'Model_180', 'Model_181', 'Model_182', 'Model_183', 'Model_184', 'Model_185', 'Model_186', 'Model_187', 'Model_188', 'Model_189', 'Model_190', 'Model_191', 'Model_192', 'Model_193', 'Model_194', 'Model_195', 'Model_196', 'Model_197', 'Model_198', 'Model_199']\n"
     ]
    }
   ],
   "source": [
    "# load the images for the 200 ensemble models\n",
    "# define an empty image\n",
    "firstImage = ee.Image('users/leonidmoore/WoodDensityProject/PredictedMaps/Predicted_WoodDensity_BufferBased_Mean_Map_with_Seed_0').rename('Model_0')\n",
    "\n",
    "modelList = np.arange(1, 200, 1).tolist()\n",
    "for ml in modelList:\n",
    "    perModelImage = ee.Image('users/leonidmoore/WoodDensityProject/PredictedMaps/Predicted_WoodDensity_BufferBased_Mean_Map_with_Seed_'+str(ml)).rename('Model_'+str(ml))\n",
    "    firstImage = firstImage.addBands(perModelImage)\n",
    "\n",
    "print(colored('The band names are:', 'blue', attrs=['bold']),firstImage.bandNames().getInfo())"
   ]
  },
  {
   "cell_type": "code",
   "execution_count": 6,
   "metadata": {},
   "outputs": [],
   "source": [
    "# define the boundary geography reference\n",
    "unboundedGeo = ee.Geometry.Polygon([-180, 88, 0, 88, 180, 88, 180, -88, 0, -88, -180, -88], None, False)"
   ]
  },
  {
   "cell_type": "markdown",
   "metadata": {},
   "source": [
    "## Calculate the Mean and variation coefficient maps of wood density mean"
   ]
  },
  {
   "cell_type": "code",
   "execution_count": 7,
   "metadata": {},
   "outputs": [],
   "source": [
    "# calculate the mean and variation images\n",
    "meanImage = firstImage.reduce(ee.Reducer.mean())\n",
    "variImage = firstImage.reduce(ee.Reducer.stdDev()).divide(meanImage)\n",
    "#95% quantile range\n",
    "quantileImage = firstImage.reduce(ee.Reducer.percentile([2.5,97.5],['lower','upper']))"
   ]
  },
  {
   "cell_type": "markdown",
   "metadata": {},
   "source": [
    "## Export Mean and variation coefficient maps of wood density mean to Asset"
   ]
  },
  {
   "cell_type": "code",
   "execution_count": 8,
   "metadata": {},
   "outputs": [
    {
     "data": {
      "text/plain": [
       "{'state': 'READY',\n",
       " 'description': '20230418_Wood_Density_Mean_Ensemble_Map_Vari_To_Asset',\n",
       " 'creation_timestamp_ms': 1681808751551,\n",
       " 'update_timestamp_ms': 1681808751551,\n",
       " 'start_timestamp_ms': 0,\n",
       " 'task_type': 'EXPORT_IMAGE',\n",
       " 'id': 'QL532KRFAML7DGC27R2RUWXP',\n",
       " 'name': 'projects/earthengine-legacy/operations/QL532KRFAML7DGC27R2RUWXP'}"
      ]
     },
     "execution_count": 8,
     "metadata": {},
     "output_type": "execute_result"
    }
   ],
   "source": [
    "# add those two images into the GEE assets\n",
    "meanExport = ee.batch.Export.image.toAsset(image = meanImage,\n",
    "                                           description = '20230418_Wood_Density_Mean_Ensemble_Map_Mean_To_Asset',\n",
    "                                           assetId = 'users/leonidmoore/WoodDensityProject/EnsembleMaps/WoodDensity_Community_Mean_Ensemble_Mean_BufferBased',\n",
    "                                           region = unboundedGeo,\n",
    "                                           crs = 'EPSG:4326',\n",
    "                                           crsTransform = [0.008333333333333333,0,-180,0,-0.008333333333333333,90],\n",
    "                                           maxPixels = 1e13)\n",
    "\n",
    "\n",
    "# start the export task\n",
    "meanExport.start()\n",
    "# show the task status\n",
    "meanExport.status()\n",
    "\n",
    "variExport = ee.batch.Export.image.toAsset(image = variImage,\n",
    "                                           description = '20230418_Wood_Density_Mean_Ensemble_Map_Vari_To_Asset',\n",
    "                                           assetId = 'users/leonidmoore/WoodDensityProject/EnsembleMaps/WoodDensity_Community_Mean_Ensemble_Vari_BufferBased',\n",
    "                                           region = unboundedGeo,\n",
    "                                           crs = 'EPSG:4326',\n",
    "                                           crsTransform = [0.008333333333333333,0,-180,0,-0.008333333333333333,90],\n",
    "                                           maxPixels = 1e13)\n",
    "\n",
    "# start the export task\n",
    "variExport.start()\n",
    "# show the task status\n",
    "variExport.status()"
   ]
  },
  {
   "cell_type": "code",
   "execution_count": 9,
   "metadata": {},
   "outputs": [
    {
     "data": {
      "text/plain": [
       "{'state': 'READY',\n",
       " 'description': '20230418_Wood_Density_Mean_Ensemble_Map_Quantile_To_Asset',\n",
       " 'creation_timestamp_ms': 1681808752958,\n",
       " 'update_timestamp_ms': 1681808752958,\n",
       " 'start_timestamp_ms': 0,\n",
       " 'task_type': 'EXPORT_IMAGE',\n",
       " 'id': 'IQTOQH5VOVQ2FSKW3YI6HYJV',\n",
       " 'name': 'projects/earthengine-legacy/operations/IQTOQH5VOVQ2FSKW3YI6HYJV'}"
      ]
     },
     "execution_count": 9,
     "metadata": {},
     "output_type": "execute_result"
    }
   ],
   "source": [
    "quantileExport = ee.batch.Export.image.toAsset(image = quantileImage,\n",
    "                                           description = '20230418_Wood_Density_Mean_Ensemble_Map_Quantile_To_Asset',\n",
    "                                           assetId = 'users/leonidmoore/WoodDensityProject/EnsembleMaps/WoodDensity_Community_Mean_Ensemble_Quantile_BufferBased',\n",
    "                                           region = unboundedGeo,\n",
    "                                           crs = 'EPSG:4326',\n",
    "                                           crsTransform = [0.008333333333333333,0,-180,0,-0.008333333333333333,90],\n",
    "                                           maxPixels = 1e13)\n",
    "\n",
    "# start the export task\n",
    "quantileExport.start()\n",
    "# show the task status\n",
    "quantileExport.status()"
   ]
  },
  {
   "cell_type": "code",
   "execution_count": null,
   "metadata": {},
   "outputs": [],
   "source": []
  }
 ],
 "metadata": {
  "kernelspec": {
   "display_name": "Python 3",
   "language": "python",
   "name": "python3"
  },
  "language_info": {
   "codemirror_mode": {
    "name": "ipython",
    "version": 3
   },
   "file_extension": ".py",
   "mimetype": "text/x-python",
   "name": "python",
   "nbconvert_exporter": "python",
   "pygments_lexer": "ipython3",
   "version": "3.8.5"
  }
 },
 "nbformat": 4,
 "nbformat_minor": 4
}
