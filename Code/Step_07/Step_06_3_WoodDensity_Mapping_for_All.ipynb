{
 "cells": [
  {
   "cell_type": "markdown",
   "metadata": {},
   "source": [
    "# Wood density maping by random forest models in GEE"
   ]
  },
  {
   "cell_type": "code",
   "execution_count": null,
   "metadata": {},
   "outputs": [],
   "source": [
    "# import the libraries\n",
    "import ee\n",
    "import pandas as pd\n",
    "import os\n",
    "import numpy as np\n",
    "from termcolor import colored # this is allocate colour and fonts type for the print title and text"
   ]
  },
  {
   "cell_type": "code",
   "execution_count": 2,
   "metadata": {},
   "outputs": [],
   "source": [
    "#set the working directory of local drive for Grid search result table loading\n",
    "# os.getcwd()\n",
    "os.chdir('/Users/LeonidMoore/Desktop/ETH_Study/WoodDensityMapingProject')"
   ]
  },
  {
   "cell_type": "code",
   "execution_count": 3,
   "metadata": {},
   "outputs": [],
   "source": [
    "# initialize the earth engine API\n",
    "ee.Initialize()"
   ]
  },
  {
   "cell_type": "code",
   "execution_count": 4,
   "metadata": {},
   "outputs": [
    {
     "name": "stdout",
     "output_type": "stream",
     "text": [
      "\u001b[1m\u001b[34mBand in Forest age data:\n",
      "\u001b[0m ['forest_age_TC000', 'forest_age_TC010', 'forest_age_TC020', 'forest_age_TC030', 'forest_age_TCloss_intensity', 'forest_age_LastTimeTCloss_std']\n",
      "\u001b[1m\u001b[34mBand in composite:\n",
      "\u001b[0m ['Aridity_Index', 'CHELSA_Annual_Mean_Temperature', 'CHELSA_Annual_Precipitation', 'CHELSA_Isothermality', 'CHELSA_Max_Temperature_of_Warmest_Month', 'CHELSA_Mean_Diurnal_Range', 'CHELSA_Mean_Temperature_of_Coldest_Quarter', 'CHELSA_Mean_Temperature_of_Driest_Quarter', 'CHELSA_Mean_Temperature_of_Warmest_Quarter', 'CHELSA_Mean_Temperature_of_Wettest_Quarter', 'CHELSA_Min_Temperature_of_Coldest_Month', 'CHELSA_Precipitation_Seasonality', 'CHELSA_Precipitation_of_Coldest_Quarter', 'CHELSA_Precipitation_of_Driest_Month', 'CHELSA_Precipitation_of_Driest_Quarter', 'CHELSA_Precipitation_of_Warmest_Quarter', 'CHELSA_Precipitation_of_Wettest_Month', 'CHELSA_Precipitation_of_Wettest_Quarter', 'CHELSA_Temperature_Annual_Range', 'CHELSA_Temperature_Seasonality', 'Depth_to_Water_Table', 'EarthEnvCloudCover_MODCF_interannualSD', 'EarthEnvCloudCover_MODCF_intraannualSD', 'EarthEnvCloudCover_MODCF_meanannual', 'EarthEnvTopoMed_AspectCosine', 'EarthEnvTopoMed_AspectSine', 'EarthEnvTopoMed_Eastness', 'EarthEnvTopoMed_Elevation', 'EarthEnvTopoMed_Northness', 'EarthEnvTopoMed_ProfileCurvature', 'EarthEnvTopoMed_Roughness', 'EarthEnvTopoMed_Slope', 'EarthEnvTopoMed_TangentialCurvature', 'EarthEnvTopoMed_TerrainRuggednessIndex', 'EarthEnvTopoMed_TopoPositionIndex', 'EarthEnvTopoMed_VectorRuggednessMeasure', 'SG_Absolute_depth_to_bedrock', 'WorldClim2_SolarRadiation_AnnualMean', 'WorldClim2_WindSpeed_AnnualMean', 'NDVI', 'EVI', 'Lai', 'Fpar', 'GlobBiomass_GrowingStockVolume', 'Npp', 'Population_Density', 'WorldClim2_H2OVaporPressure_AnnualMean', 'Tree_Density', 'PET', 'SG_Clay_Content_0_100cm', 'SG_Coarse_fragments_0_100cm', 'SG_Sand_Content_0_100cm', 'SG_Silt_Content_0_100cm', 'SG_Soil_pH_H2O_0_100cm', 'Human_Development_Percentage', 'LandCoverClass_Cultivated_and_Managed_Vegetation', 'LandCoverClass_Urban_Builtup', 'Human_Disturbance', 'PresentTreeCover', 'WDPA', 'WWF_Biome', 'PotentialForestCover', 'Nitrogen', 'cnRatio', 'CanopyHeight', 'HumanFootprint', 'cropland', 'grazing', 'ir_norice', 'ir_rice', 'pasture', 'rangeland', 'rf_norice', 'rf_rice', 'tot_irri', 'tot_rainfed', 'tot_rice', 'Fire_Frequency', 'Organic_Carbon', 'Cation', 'Rainfall_Erosivity', 'SoilMoisture', 'ForestAge']\n"
     ]
    }
   ],
   "source": [
    "# Load the composite for root shoot ratio analysis\n",
    "compositeRaw = ee.Image(\"users/leonidmoore/ForestBiomass/20200915_Forest_Biomass_Predictors_Image\")\n",
    "# get the projection\n",
    "stdProj = compositeRaw.projection()\n",
    "forestAgeData = ee.Image(\"projects/crowtherlab/johan/Besnard_ForestAge\")\n",
    "print(colored('Band in Forest age data:\\n', 'blue', attrs=['bold']),forestAgeData.bandNames().getInfo())\n",
    "# we choose the band \"forest_age_TC030\" for following modeling\n",
    "forestAge = forestAgeData.select(['forest_age_TC000']).reproject(crs=stdProj).rename('ForestAge')\n",
    "# load the additional layers and uniform the projection\n",
    "soilmoisture = ee.Image('users/haozhima95/wld_soil_moisture').reproject(crs=stdProj).rename('SoilMoisture')\n",
    "compositeImg = compositeRaw.addBands(soilmoisture).addBands(forestAge)\n",
    "# check the band names in the composite\n",
    "compositeBandNames = compositeImg.bandNames()\n",
    "print(colored('Band in composite:\\n', 'blue', attrs=['bold']),compositeBandNames.getInfo())"
   ]
  },
  {
   "cell_type": "code",
   "execution_count": 5,
   "metadata": {},
   "outputs": [],
   "source": [
    "# define the boundary geography reference\n",
    "unboundedGeo = ee.Geometry.Polygon([-180, 88, 0, 88, 180, 88, 180, -88, 0, -88, -180, -88], None, False)"
   ]
  },
  {
   "cell_type": "markdown",
   "metadata": {},
   "source": [
    "### Check the data structure of the paramter tables"
   ]
  },
  {
   "cell_type": "code",
   "execution_count": null,
   "metadata": {},
   "outputs": [
    {
     "name": "stdout",
     "output_type": "stream",
     "text": [
      "\u001b[1m\u001b[34mThe head of the table: \n",
      "\u001b[0m\n"
     ]
    },
    {
     "data": {
      "text/html": [
       "<div>\n",
       "<style scoped>\n",
       "    .dataframe tbody tr th:only-of-type {\n",
       "        vertical-align: middle;\n",
       "    }\n",
       "\n",
       "    .dataframe tbody tr th {\n",
       "        vertical-align: top;\n",
       "    }\n",
       "\n",
       "    .dataframe thead th {\n",
       "        text-align: right;\n",
       "    }\n",
       "</style>\n",
       "<table border=\"1\" class=\"dataframe\">\n",
       "  <thead>\n",
       "    <tr style=\"text-align: right;\">\n",
       "      <th></th>\n",
       "      <th>Unnamed: 0</th>\n",
       "      <th>Mean_R2</th>\n",
       "      <th>StDev_R2</th>\n",
       "      <th>ModelName</th>\n",
       "      <th>numberOfTrees</th>\n",
       "      <th>variablesPerSplit</th>\n",
       "      <th>minLeafPopulation</th>\n",
       "      <th>bagFraction</th>\n",
       "      <th>maxNodes</th>\n",
       "      <th>type</th>\n",
       "    </tr>\n",
       "  </thead>\n",
       "  <tbody>\n",
       "    <tr>\n",
       "      <th>0</th>\n",
       "      <td>0</td>\n",
       "      <td>0.49583</td>\n",
       "      <td>0.029477</td>\n",
       "      <td>GridSeach_Model_15_2_90</td>\n",
       "      <td>250</td>\n",
       "      <td>15</td>\n",
       "      <td>2</td>\n",
       "      <td>0.632</td>\n",
       "      <td>90</td>\n",
       "      <td>Classifier.smileRandomForest</td>\n",
       "    </tr>\n",
       "  </tbody>\n",
       "</table>\n",
       "</div>"
      ],
      "text/plain": [
       "   Unnamed: 0  Mean_R2  StDev_R2                ModelName  numberOfTrees  \\\n",
       "0           0  0.49583  0.029477  GridSeach_Model_15_2_90            250   \n",
       "\n",
       "   variablesPerSplit  minLeafPopulation  bagFraction  maxNodes  \\\n",
       "0                 15                  2        0.632        90   \n",
       "\n",
       "                           type  \n",
       "0  Classifier.smileRandomForest  "
      ]
     },
     "execution_count": 6,
     "metadata": {},
     "output_type": "execute_result"
    }
   ],
   "source": [
    "# load the grid searh table from R\n",
    "parameterTable = pd.read_csv('Data/GridSearchResultsGEE/Wood_Density_Buffer_Based_Subsample_Grid_Search_Seed_0.csv', float_precision='round_trip')\n",
    "# show the structure by head function\n",
    "print(colored('The head of the table: \\n', 'blue', attrs=['bold']))\n",
    "parameterTable.head()"
   ]
  },
  {
   "cell_type": "code",
   "execution_count": 7,
   "metadata": {},
   "outputs": [
    {
     "name": "stdout",
     "output_type": "stream",
     "text": [
      "\u001b[1m\u001b[34mThe predictors are:\u001b[0m ['Aridity_Index', 'CHELSA_Annual_Mean_Temperature', 'CHELSA_Annual_Precipitation', 'CHELSA_Isothermality', 'CHELSA_Max_Temperature_of_Warmest_Month', 'CHELSA_Mean_Diurnal_Range', 'CHELSA_Mean_Temperature_of_Coldest_Quarter', 'CHELSA_Mean_Temperature_of_Driest_Quarter', 'CHELSA_Mean_Temperature_of_Warmest_Quarter', 'CHELSA_Mean_Temperature_of_Wettest_Quarter', 'CHELSA_Min_Temperature_of_Coldest_Month', 'CHELSA_Precipitation_Seasonality', 'CHELSA_Precipitation_of_Coldest_Quarter', 'CHELSA_Precipitation_of_Driest_Month', 'CHELSA_Precipitation_of_Driest_Quarter', 'CHELSA_Precipitation_of_Warmest_Quarter', 'CHELSA_Precipitation_of_Wettest_Month', 'CHELSA_Precipitation_of_Wettest_Quarter', 'CHELSA_Temperature_Annual_Range', 'CHELSA_Temperature_Seasonality', 'Depth_to_Water_Table', 'EarthEnvCloudCover_MODCF_interannualSD', 'EarthEnvCloudCover_MODCF_intraannualSD', 'EarthEnvCloudCover_MODCF_meanannual', 'EarthEnvTopoMed_Eastness', 'EarthEnvTopoMed_Elevation', 'EarthEnvTopoMed_Northness', 'EarthEnvTopoMed_ProfileCurvature', 'EarthEnvTopoMed_Roughness', 'EarthEnvTopoMed_Slope', 'EarthEnvTopoMed_TopoPositionIndex', 'SG_Absolute_depth_to_bedrock', 'WorldClim2_SolarRadiation_AnnualMean', 'WorldClim2_WindSpeed_AnnualMean', 'WorldClim2_H2OVaporPressure_AnnualMean', 'NDVI', 'EVI', 'Lai', 'Fpar', 'Npp', 'Tree_Density', 'PET', 'SG_Clay_Content_0_100cm', 'SG_Coarse_fragments_0_100cm', 'SG_Sand_Content_0_100cm', 'SG_Silt_Content_0_100cm', 'SG_Soil_pH_H2O_0_100cm', 'LandCoverClass_Cultivated_and_Managed_Vegetation', 'LandCoverClass_Urban_Builtup', 'Human_Disturbance', 'PresentTreeCover', 'Nitrogen', 'CanopyHeight', 'cropland', 'grazing', 'pasture', 'rangeland', 'Fire_Frequency', 'cnRatio', 'Cation', 'SoilMoisture', 'ForestAge']\n"
     ]
    }
   ],
   "source": [
    "# define the list of predictors\n",
    "predictorsSelected = [\"Aridity_Index\",\n",
    "                      \"CHELSA_Annual_Mean_Temperature\",\n",
    "                      \"CHELSA_Annual_Precipitation\",\n",
    "                      \"CHELSA_Isothermality\",\n",
    "                      \"CHELSA_Max_Temperature_of_Warmest_Month\",\n",
    "                      \"CHELSA_Mean_Diurnal_Range\",\n",
    "                      \"CHELSA_Mean_Temperature_of_Coldest_Quarter\",\n",
    "                      \"CHELSA_Mean_Temperature_of_Driest_Quarter\",\n",
    "                      \"CHELSA_Mean_Temperature_of_Warmest_Quarter\",\n",
    "                      \"CHELSA_Mean_Temperature_of_Wettest_Quarter\",\n",
    "                      \"CHELSA_Min_Temperature_of_Coldest_Month\",\n",
    "                      \"CHELSA_Precipitation_Seasonality\",\n",
    "                      \"CHELSA_Precipitation_of_Coldest_Quarter\",\n",
    "                      \"CHELSA_Precipitation_of_Driest_Month\",\n",
    "                      \"CHELSA_Precipitation_of_Driest_Quarter\",\n",
    "                      \"CHELSA_Precipitation_of_Warmest_Quarter\",\n",
    "                      \"CHELSA_Precipitation_of_Wettest_Month\",\n",
    "                      \"CHELSA_Precipitation_of_Wettest_Quarter\",\n",
    "                      \"CHELSA_Temperature_Annual_Range\",\n",
    "                      \"CHELSA_Temperature_Seasonality\",\n",
    "                      \"Depth_to_Water_Table\",\n",
    "                      \"EarthEnvCloudCover_MODCF_interannualSD\",\n",
    "                      \"EarthEnvCloudCover_MODCF_intraannualSD\",\n",
    "                      \"EarthEnvCloudCover_MODCF_meanannual\",\n",
    "                      \"EarthEnvTopoMed_Eastness\",\n",
    "                      \"EarthEnvTopoMed_Elevation\",\n",
    "                      \"EarthEnvTopoMed_Northness\",\n",
    "                      \"EarthEnvTopoMed_ProfileCurvature\",\n",
    "                      \"EarthEnvTopoMed_Roughness\",\n",
    "                      \"EarthEnvTopoMed_Slope\",\n",
    "                      \"EarthEnvTopoMed_TopoPositionIndex\",\n",
    "                      \"SG_Absolute_depth_to_bedrock\",\n",
    "                      \"WorldClim2_SolarRadiation_AnnualMean\",\n",
    "                      \"WorldClim2_WindSpeed_AnnualMean\",\n",
    "                      \"WorldClim2_H2OVaporPressure_AnnualMean\",\n",
    "                      \"NDVI\",\n",
    "                      \"EVI\",\n",
    "                      \"Lai\",\n",
    "                      \"Fpar\",\n",
    "                      \"Npp\",\n",
    "                      \"Tree_Density\",\n",
    "                      \"PET\",\n",
    "                      \"SG_Clay_Content_0_100cm\",\n",
    "                      \"SG_Coarse_fragments_0_100cm\",\n",
    "                      \"SG_Sand_Content_0_100cm\",\n",
    "                      \"SG_Silt_Content_0_100cm\",\n",
    "                      \"SG_Soil_pH_H2O_0_100cm\",\n",
    "                      \"LandCoverClass_Cultivated_and_Managed_Vegetation\",\n",
    "                      \"LandCoverClass_Urban_Builtup\",\n",
    "                      \"Human_Disturbance\",\n",
    "                      \"PresentTreeCover\",\n",
    "                      \"Nitrogen\",\n",
    "                      \"CanopyHeight\",\n",
    "                      \"cropland\",\n",
    "                      \"grazing\",\n",
    "                      \"pasture\",\n",
    "                      \"rangeland\",\n",
    "                      \"Fire_Frequency\",\n",
    "                      \"cnRatio\",\n",
    "                      \"Cation\",\n",
    "                      \"SoilMoisture\",\n",
    "                      \"ForestAge\"]\n",
    "# show the predictors\n",
    "print(colored('The predictors are:', 'blue', attrs=['bold']),predictorsSelected)"
   ]
  },
  {
   "cell_type": "markdown",
   "metadata": {},
   "source": [
    "### After you run the chunk below, please check the status of the maping tasks on your Google earth engine"
   ]
  },
  {
   "cell_type": "code",
   "execution_count": null,
   "metadata": {},
   "outputs": [
    {
     "name": "stdout",
     "output_type": "stream",
     "text": [
      "\u001b[1m\u001b[34mThe models are:\u001b[0m [0, 1, 2, 3, 4, 5]\n",
      "\u001b[1m\u001b[34mModel is running:\n",
      "With paramter sets:\u001b[0m\n",
      "seed 0 15 2 90\n",
      "seed 1 18 14 100\n",
      "seed 2 18 8 90\n",
      "seed 3 21 2 100\n",
      "seed 4 18 10 100\n",
      "seed 5 21 8 80\n"
     ]
    }
   ],
   "source": [
    "# define a loop through the seed list\n",
    "seedList = np.arange(0, 200, 1).tolist()\n",
    "print(colored('The models are:', 'blue', attrs=['bold']),seedList)\n",
    "print(colored('Model is running:\\nWith paramter sets:', 'blue', attrs=['bold']))\n",
    "# for seed in seedList: range(0,len(seedList))\n",
    "for seed in seedList:\n",
    "    # load the points data in shape file format\n",
    "    woodDensityPoints = ee.FeatureCollection('users/leonidmoore/WoodDensityProject/TrainTables/Wood_Density_BufferZone_Subsampled_Train_table_Seed_'+str(seed))\n",
    "    # check the information of the FeatureCollection\n",
    "    # print(woodDensityTable.first().getInfo())\n",
    "    # extract the environment covariates\n",
    "    extractedVariableTable = compositeImg.select(predictorsSelected).reduceRegions(collection = woodDensityPoints,\n",
    "                                                                                     reducer = ee.Reducer.first())\n",
    "    # show the str of the extracted data\n",
    "    # print(extractedVariableTable.first().getInfo())\n",
    "    # exclude the rows with null valus\n",
    "    trainTable = extractedVariableTable.filter(ee.Filter.notNull(predictorsSelected))\n",
    "    # print(trainTable.size().getInfo())\n",
    "    parameterTable = pd.read_csv('Data/GridSearchResultsGEE/Wood_Density_Buffer_Based_Subsample_Grid_Search_Seed_'+str(seed)+'.csv', float_precision='round_trip')\n",
    "    # not recomend to run the code below\n",
    "    # print(parameterTable.head())\n",
    "    # extract the paramters\n",
    "    variablesPerSplitVal = int(parameterTable['variablesPerSplit'].iat[0]) # mtry\n",
    "    minLeafPopulationVal = int(parameterTable['minLeafPopulation'].iat[0]) # minrow\n",
    "    maxNodesVal = int(parameterTable['maxNodes'].iat[0]) # mac depth\n",
    "    print('seed',seed,variablesPerSplitVal,minLeafPopulationVal,maxNodesVal)\n",
    "    # define the random forest classifier\n",
    "    rfClassifier = ee.Classifier.smileRandomForest(numberOfTrees = 250,\n",
    "                                                   variablesPerSplit = variablesPerSplitVal, # mtry\n",
    "                                                   minLeafPopulation = minLeafPopulationVal, # minrow\n",
    "                                                   maxNodes = maxNodesVal, # max depth\n",
    "                                                   bagFraction = 0.632,\n",
    "                                                   seed = seed).setOutputMode('REGRESSION')\n",
    "    trainedClassifier = rfClassifier.train(features = trainTable,\n",
    "                                           classProperty = 'WdDnsty',\n",
    "                                           inputProperties = predictorsSelected)\n",
    "    # execute the prediction to generate the map\n",
    "    predictedWoodDensityMap = compositeImg.classify(trainedClassifier)\n",
    "    # print(predictedWoodDensityMap.getInfo())\n",
    "    predictionExport = ee.batch.Export.image.toAsset(image = predictedWoodDensityMap,\n",
    "                                                     description = '20230329_Wood_Density_Map_To_Asset_'+str(seed),\n",
    "                                                     assetId = 'users/leonidmoore/WoodDensityProject/PredictedMaps/Predicted_WoodDensity_BufferBased_Mean_Map_with_Seed_'+str(seed),\n",
    "                                                     region = unboundedGeo,\n",
    "                                                     crs = 'EPSG:4326',\n",
    "                                                     crsTransform = [0.008333333333333333,0,-180,0,-0.008333333333333333,90],\n",
    "                                                     maxPixels = 1e13)\n",
    "\n",
    "    # print(predictionExportAsset)\n",
    "    # start the export task\n",
    "    predictionExport.start()\n",
    "    # show the task status\n",
    "    predictionExport.status()"
   ]
  },
  {
   "cell_type": "code",
   "execution_count": null,
   "metadata": {},
   "outputs": [],
   "source": []
  }
 ],
 "metadata": {
  "kernelspec": {
   "display_name": "Python 3",
   "language": "python",
   "name": "python3"
  },
  "language_info": {
   "codemirror_mode": {
    "name": "ipython",
    "version": 3
   },
   "file_extension": ".py",
   "mimetype": "text/x-python",
   "name": "python",
   "nbconvert_exporter": "python",
   "pygments_lexer": "ipython3",
   "version": "3.8.5"
  }
 },
 "nbformat": 4,
 "nbformat_minor": 4
}
