{
 "cells": [
  {
   "cell_type": "markdown",
   "metadata": {},
   "source": [
    "## 1. Load the libraries for calculation (Gymnosperm Wood density)"
   ]
  },
  {
   "cell_type": "code",
   "execution_count": null,
   "metadata": {},
   "outputs": [],
   "source": [
    "# Import the modules of interest\n",
    "import pandas as pd\n",
    "import geopandas as gpd\n",
    "import ee\n",
    "from sklearn.metrics import r2_score\n",
    "from termcolor import colored # this is allocate colour and fonts type for the print title and text\n",
    "from IPython.display import display, HTML\n",
    "import numpy as np"
   ]
  },
  {
   "cell_type": "code",
   "execution_count": 2,
   "metadata": {},
   "outputs": [],
   "source": [
    "# Intialize the ee API connection\n",
    "ee.Initialize()"
   ]
  },
  {
   "cell_type": "code",
   "execution_count": 3,
   "metadata": {},
   "outputs": [],
   "source": [
    "# earthengine rm -r users/leonidmoore/WoodDensityProject/BufferBasedSubsampling/"
   ]
  },
  {
   "cell_type": "markdown",
   "metadata": {},
   "source": [
    "## Extract the covariates to Google drive"
   ]
  },
  {
   "cell_type": "markdown",
   "metadata": {},
   "source": [
    "### 2.1 Load the data points"
   ]
  },
  {
   "cell_type": "code",
   "execution_count": 4,
   "metadata": {},
   "outputs": [
    {
     "name": "stdout",
     "output_type": "stream",
     "text": [
      "407137\n"
     ]
    }
   ],
   "source": [
    "# load the full shapefile\n",
    "fullDataPoints = ee.FeatureCollection('users/leonidmoore/WoodDensityProject/Full_Shapefiles/WoodDensity_Diversity_Pixel_Gymno')\n",
    "print(fullDataPoints.size().getInfo())"
   ]
  },
  {
   "cell_type": "markdown",
   "metadata": {},
   "source": [
    "### 2.2 Load the covairates composite"
   ]
  },
  {
   "cell_type": "code",
   "execution_count": 5,
   "metadata": {},
   "outputs": [],
   "source": [
    "# Load the composite for root shoot ratio analysis\n",
    "compositeRaw = ee.Image(\"users/leonidmoore/ForestBiomass/20200915_Forest_Biomass_Predictors_Image\")\n",
    "# get the projection\n",
    "stdProj = compositeRaw.projection()"
   ]
  },
  {
   "cell_type": "code",
   "execution_count": 6,
   "metadata": {},
   "outputs": [
    {
     "name": "stdout",
     "output_type": "stream",
     "text": [
      "\u001b[1m\u001b[34mBand in Forest age data:\n",
      "\u001b[0m ['forest_age_TC000', 'forest_age_TC010', 'forest_age_TC020', 'forest_age_TC030', 'forest_age_TCloss_intensity', 'forest_age_LastTimeTCloss_std']\n"
     ]
    }
   ],
   "source": [
    "forestAgeData = ee.Image(\"projects/crowtherlab/johan/Besnard_ForestAge\")\n",
    "print(colored('Band in Forest age data:\\n', 'blue', attrs=['bold']),forestAgeData.bandNames().getInfo())\n",
    "# we choose the band \"forest_age_TC030\" for following modeling\n",
    "forestAge = forestAgeData.select(['forest_age_TC000']).reproject(crs=stdProj).rename('ForestAge')"
   ]
  },
  {
   "cell_type": "code",
   "execution_count": 7,
   "metadata": {},
   "outputs": [
    {
     "name": "stdout",
     "output_type": "stream",
     "text": [
      "\u001b[1m\u001b[34mBand in composite:\n",
      "\u001b[0m ['Aridity_Index', 'CHELSA_Annual_Mean_Temperature', 'CHELSA_Annual_Precipitation', 'CHELSA_Isothermality', 'CHELSA_Max_Temperature_of_Warmest_Month', 'CHELSA_Mean_Diurnal_Range', 'CHELSA_Mean_Temperature_of_Coldest_Quarter', 'CHELSA_Mean_Temperature_of_Driest_Quarter', 'CHELSA_Mean_Temperature_of_Warmest_Quarter', 'CHELSA_Mean_Temperature_of_Wettest_Quarter', 'CHELSA_Min_Temperature_of_Coldest_Month', 'CHELSA_Precipitation_Seasonality', 'CHELSA_Precipitation_of_Coldest_Quarter', 'CHELSA_Precipitation_of_Driest_Month', 'CHELSA_Precipitation_of_Driest_Quarter', 'CHELSA_Precipitation_of_Warmest_Quarter', 'CHELSA_Precipitation_of_Wettest_Month', 'CHELSA_Precipitation_of_Wettest_Quarter', 'CHELSA_Temperature_Annual_Range', 'CHELSA_Temperature_Seasonality', 'Depth_to_Water_Table', 'EarthEnvCloudCover_MODCF_interannualSD', 'EarthEnvCloudCover_MODCF_intraannualSD', 'EarthEnvCloudCover_MODCF_meanannual', 'EarthEnvTopoMed_AspectCosine', 'EarthEnvTopoMed_AspectSine', 'EarthEnvTopoMed_Eastness', 'EarthEnvTopoMed_Elevation', 'EarthEnvTopoMed_Northness', 'EarthEnvTopoMed_ProfileCurvature', 'EarthEnvTopoMed_Roughness', 'EarthEnvTopoMed_Slope', 'EarthEnvTopoMed_TangentialCurvature', 'EarthEnvTopoMed_TerrainRuggednessIndex', 'EarthEnvTopoMed_TopoPositionIndex', 'EarthEnvTopoMed_VectorRuggednessMeasure', 'SG_Absolute_depth_to_bedrock', 'WorldClim2_SolarRadiation_AnnualMean', 'WorldClim2_WindSpeed_AnnualMean', 'NDVI', 'EVI', 'Lai', 'Fpar', 'GlobBiomass_GrowingStockVolume', 'Npp', 'Population_Density', 'WorldClim2_H2OVaporPressure_AnnualMean', 'Tree_Density', 'PET', 'SG_Clay_Content_0_100cm', 'SG_Coarse_fragments_0_100cm', 'SG_Sand_Content_0_100cm', 'SG_Silt_Content_0_100cm', 'SG_Soil_pH_H2O_0_100cm', 'Human_Development_Percentage', 'LandCoverClass_Cultivated_and_Managed_Vegetation', 'LandCoverClass_Urban_Builtup', 'Human_Disturbance', 'PresentTreeCover', 'WDPA', 'WWF_Biome', 'PotentialForestCover', 'Nitrogen', 'cnRatio', 'CanopyHeight', 'HumanFootprint', 'cropland', 'grazing', 'ir_norice', 'ir_rice', 'pasture', 'rangeland', 'rf_norice', 'rf_rice', 'tot_irri', 'tot_rainfed', 'tot_rice', 'Fire_Frequency', 'Organic_Carbon', 'Cation', 'Rainfall_Erosivity', 'SoilMoisture', 'ForestAge']\n"
     ]
    }
   ],
   "source": [
    "# load the additional layers and uniform the projection\n",
    "soilmoisture = ee.Image('users/haozhima95/wld_soil_moisture').reproject(crs=stdProj).rename('SoilMoisture')\n",
    "compositeImg = compositeRaw.addBands(soilmoisture).addBands(forestAge)\n",
    "# check the band names in the composite\n",
    "compositeBandNames = compositeImg.bandNames()\n",
    "print(colored('Band in composite:\\n', 'blue', attrs=['bold']),compositeBandNames.getInfo())"
   ]
  },
  {
   "cell_type": "markdown",
   "metadata": {},
   "source": [
    "### 2.3 Define the list of predictors"
   ]
  },
  {
   "cell_type": "code",
   "execution_count": 8,
   "metadata": {},
   "outputs": [
    {
     "name": "stdout",
     "output_type": "stream",
     "text": [
      "\u001b[1m\u001b[34mThe predictors are:\u001b[0m ['Aridity_Index', 'CHELSA_Annual_Mean_Temperature', 'CHELSA_Annual_Precipitation', 'CHELSA_Isothermality', 'CHELSA_Max_Temperature_of_Warmest_Month', 'CHELSA_Mean_Diurnal_Range', 'CHELSA_Mean_Temperature_of_Coldest_Quarter', 'CHELSA_Mean_Temperature_of_Driest_Quarter', 'CHELSA_Mean_Temperature_of_Warmest_Quarter', 'CHELSA_Mean_Temperature_of_Wettest_Quarter', 'CHELSA_Min_Temperature_of_Coldest_Month', 'CHELSA_Precipitation_Seasonality', 'CHELSA_Precipitation_of_Coldest_Quarter', 'CHELSA_Precipitation_of_Driest_Month', 'CHELSA_Precipitation_of_Driest_Quarter', 'CHELSA_Precipitation_of_Warmest_Quarter', 'CHELSA_Precipitation_of_Wettest_Month', 'CHELSA_Precipitation_of_Wettest_Quarter', 'CHELSA_Temperature_Annual_Range', 'CHELSA_Temperature_Seasonality', 'Depth_to_Water_Table', 'EarthEnvCloudCover_MODCF_interannualSD', 'EarthEnvCloudCover_MODCF_intraannualSD', 'EarthEnvCloudCover_MODCF_meanannual', 'EarthEnvTopoMed_Eastness', 'EarthEnvTopoMed_Elevation', 'EarthEnvTopoMed_Northness', 'EarthEnvTopoMed_ProfileCurvature', 'EarthEnvTopoMed_Roughness', 'EarthEnvTopoMed_Slope', 'EarthEnvTopoMed_TopoPositionIndex', 'SG_Absolute_depth_to_bedrock', 'WorldClim2_SolarRadiation_AnnualMean', 'WorldClim2_WindSpeed_AnnualMean', 'WorldClim2_H2OVaporPressure_AnnualMean', 'NDVI', 'EVI', 'Lai', 'Fpar', 'Npp', 'Tree_Density', 'PET', 'SG_Clay_Content_0_100cm', 'SG_Coarse_fragments_0_100cm', 'SG_Sand_Content_0_100cm', 'SG_Silt_Content_0_100cm', 'SG_Soil_pH_H2O_0_100cm', 'LandCoverClass_Cultivated_and_Managed_Vegetation', 'LandCoverClass_Urban_Builtup', 'Human_Disturbance', 'PresentTreeCover', 'Nitrogen', 'CanopyHeight', 'cropland', 'grazing', 'pasture', 'rangeland', 'Fire_Frequency', 'cnRatio', 'Cation', 'SoilMoisture', 'ForestAge']\n"
     ]
    }
   ],
   "source": [
    "# define the list of covariates to use\n",
    "predictorsSelected = [\"Aridity_Index\",\n",
    "                      \"CHELSA_Annual_Mean_Temperature\",\n",
    "                      \"CHELSA_Annual_Precipitation\",\n",
    "                      \"CHELSA_Isothermality\",\n",
    "                      \"CHELSA_Max_Temperature_of_Warmest_Month\",\n",
    "                      \"CHELSA_Mean_Diurnal_Range\",\n",
    "                      \"CHELSA_Mean_Temperature_of_Coldest_Quarter\",\n",
    "                      \"CHELSA_Mean_Temperature_of_Driest_Quarter\",\n",
    "                      \"CHELSA_Mean_Temperature_of_Warmest_Quarter\",\n",
    "                      \"CHELSA_Mean_Temperature_of_Wettest_Quarter\",\n",
    "                      \"CHELSA_Min_Temperature_of_Coldest_Month\",\n",
    "                      \"CHELSA_Precipitation_Seasonality\",\n",
    "                      \"CHELSA_Precipitation_of_Coldest_Quarter\",\n",
    "                      \"CHELSA_Precipitation_of_Driest_Month\",\n",
    "                      \"CHELSA_Precipitation_of_Driest_Quarter\",\n",
    "                      \"CHELSA_Precipitation_of_Warmest_Quarter\",\n",
    "                      \"CHELSA_Precipitation_of_Wettest_Month\",\n",
    "                      \"CHELSA_Precipitation_of_Wettest_Quarter\",\n",
    "                      \"CHELSA_Temperature_Annual_Range\",\n",
    "                      \"CHELSA_Temperature_Seasonality\",\n",
    "                      \"Depth_to_Water_Table\",\n",
    "                      \"EarthEnvCloudCover_MODCF_interannualSD\",\n",
    "                      \"EarthEnvCloudCover_MODCF_intraannualSD\",\n",
    "                      \"EarthEnvCloudCover_MODCF_meanannual\",\n",
    "                      \"EarthEnvTopoMed_Eastness\",\n",
    "                      \"EarthEnvTopoMed_Elevation\",\n",
    "                      \"EarthEnvTopoMed_Northness\",\n",
    "                      \"EarthEnvTopoMed_ProfileCurvature\",\n",
    "                      \"EarthEnvTopoMed_Roughness\",\n",
    "                      \"EarthEnvTopoMed_Slope\",\n",
    "                      \"EarthEnvTopoMed_TopoPositionIndex\",\n",
    "                      \"SG_Absolute_depth_to_bedrock\",\n",
    "                      \"WorldClim2_SolarRadiation_AnnualMean\",\n",
    "                      \"WorldClim2_WindSpeed_AnnualMean\",\n",
    "                      \"WorldClim2_H2OVaporPressure_AnnualMean\",\n",
    "                      \"NDVI\",\n",
    "                      \"EVI\",\n",
    "                      \"Lai\",\n",
    "                      \"Fpar\",\n",
    "                      \"Npp\",\n",
    "                      \"Tree_Density\",\n",
    "                      \"PET\",\n",
    "                      \"SG_Clay_Content_0_100cm\",\n",
    "                      \"SG_Coarse_fragments_0_100cm\",\n",
    "                      \"SG_Sand_Content_0_100cm\",\n",
    "                      \"SG_Silt_Content_0_100cm\",\n",
    "                      \"SG_Soil_pH_H2O_0_100cm\",\n",
    "                      \"LandCoverClass_Cultivated_and_Managed_Vegetation\",\n",
    "                      \"LandCoverClass_Urban_Builtup\",\n",
    "                      \"Human_Disturbance\",\n",
    "                      \"PresentTreeCover\",\n",
    "                      \"Nitrogen\",\n",
    "                      \"CanopyHeight\",\n",
    "                      \"cropland\",\n",
    "                      \"grazing\",\n",
    "                      \"pasture\",\n",
    "                      \"rangeland\",\n",
    "                      \"Fire_Frequency\",\n",
    "                      \"cnRatio\",\n",
    "                      \"Cation\",\n",
    "                      \"SoilMoisture\",\n",
    "                      \"ForestAge\"]\n",
    "# show the predictors\n",
    "print(colored('The predictors are:', 'blue', attrs=['bold']),predictorsSelected)"
   ]
  },
  {
   "cell_type": "markdown",
   "metadata": {},
   "source": [
    "### 2.3 Extract the covariates for grid search of hyperparameters in GEE"
   ]
  },
  {
   "cell_type": "markdown",
   "metadata": {},
   "source": [
    "#### 2.3.1 Buffer zone based subsampling"
   ]
  },
  {
   "cell_type": "code",
   "execution_count": 9,
   "metadata": {},
   "outputs": [],
   "source": [
    "# Define list contains the buffer sizes to test\n",
    "bufferSize = 50000 # 50km\n",
    "# define the function to do the buffer based interation function\n",
    "def interateFunc(el,ini):\n",
    "    ini = ee.List(ini)\n",
    "    fcini = ee.FeatureCollection(ini)\n",
    "    buf = ee.Feature(el).geometry().buffer(bufferSize)\n",
    "    s = fcini.filterBounds(buf).size()\n",
    "    cond = s.lte(0)\n",
    "    return ee.Algorithms.If(cond, ini.add(el), ini)\n",
    "# define the function to do the iteration based on the wood density points\n",
    "def filterDistanceFunc(points):\n",
    "    filt2 = ee.List([])\n",
    "    filt = points.iterate(interateFunc,filt2)\n",
    "    filtered = ee.FeatureCollection(ee.List(filt))\n",
    "    return filtered"
   ]
  },
  {
   "cell_type": "code",
   "execution_count": 10,
   "metadata": {},
   "outputs": [
    {
     "name": "stdout",
     "output_type": "stream",
     "text": [
      "\u001b[1m\u001b[34mThe seeds are:\u001b[0m [8]\n",
      "\u001b[1m\u001b[34mModel is running!\u001b[0m\n"
     ]
    }
   ],
   "source": [
    "# generate a ee.List to save the seeds\n",
    "seedList = np.arange(0, 100, 1).tolist()\n",
    "print(colored('The seeds are:', 'blue', attrs=['bold']),seedList)\n",
    "print(colored('Model is running!', 'blue', attrs=['bold']))\n",
    "\n",
    "# Define the function to map through each element\n",
    "for seed in (seedList):\n",
    "    # el = seedList[0]\n",
    "    # print(el)\n",
    "\n",
    "    filterSubSamplePoints =filterDistanceFunc(fullDataPoints.randomColumn(columnName= 'rep', seed= seed).sort('rep')).map(lambda f: f.set('rep', seed))\n",
    "    # extract the covariates and remove the observations with NA\n",
    "    filteredPointsWithCovariatesRaw = compositeImg.reduceRegions(collection=filterSubSamplePoints,reducer = ee.Reducer.first())\n",
    "    filteredPointsWithCovariatesNA = filteredPointsWithCovariatesRaw.filter(ee.Filter.notNull(filteredPointsWithCovariatesRaw.first().propertyNames()))\n",
    "    # add the cross validaton folds\n",
    "    subampleWithCovariates = filteredPointsWithCovariatesNA.randomColumn('CV_Fold',seed).map(lambda f: f.set('CV_Fold',ee.Number(f.get('CV_Fold')).multiply(10).toInt()))\n",
    "    # export the filtered data\n",
    "    subsamplingExport = ee.batch.Export.table.toAsset(collection = subampleWithCovariates,\n",
    "                                                      description = 'Gymnosperm_WD_Buffer_Zone_subsample_to_Asset_with_Seed_'+str(seed),\n",
    "                                                      assetId = 'users/leonidmoore/WoodDensityProject/TrainTables/Wood_Density_BufferZone_Subsampled_Train_table_for_Gymno_Seed_'+str(seed))\n",
    "\n",
    "\n",
    "\n",
    "    subsamplingExport.start()"
   ]
  },
  {
   "cell_type": "code",
   "execution_count": null,
   "metadata": {},
   "outputs": [],
   "source": []
  }
 ],
 "metadata": {
  "kernelspec": {
   "display_name": "Python 3",
   "language": "python",
   "name": "python3"
  },
  "language_info": {
   "codemirror_mode": {
    "name": "ipython",
    "version": 3
   },
   "file_extension": ".py",
   "mimetype": "text/x-python",
   "name": "python",
   "nbconvert_exporter": "python",
   "pygments_lexer": "ipython3",
   "version": "3.8.5"
  }
 },
 "nbformat": 4,
 "nbformat_minor": 4
}
